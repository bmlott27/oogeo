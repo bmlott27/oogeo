{
 "cells": [
  {
   "cell_type": "code",
   "execution_count": 2,
   "id": "3e610e38",
   "metadata": {},
   "outputs": [
    {
     "name": "stdout",
     "output_type": "stream",
     "text": [
      "['pg_toast', 'pg_catalog', 'public', 'information_schema', 'tiger', 'tiger_data', 'topology']\n"
     ]
    }
   ],
   "source": [
    "from envelopegis.models.workspace import Workspace\n",
    "\n",
    "credentials = {\n",
    "    'host': 'gisbox.ehq',\n",
    "    'port': 7601,\n",
    "    'database': 'unit_tests',\n",
    "    'user': 'postgres',\n",
    "    'password': ''\n",
    "}\n",
    "\n",
    "workspace = Workspace(credentials)\n",
    "\n",
    "print(workspace.list_schemas())"
   ]
  },
  {
   "cell_type": "code",
   "execution_count": null,
   "id": "dac21df1",
   "metadata": {},
   "outputs": [],
   "source": []
  }
 ],
 "metadata": {
  "kernelspec": {
   "display_name": "Python 3 (ipykernel)",
   "language": "python",
   "name": "python3"
  },
  "language_info": {
   "codemirror_mode": {
    "name": "ipython",
    "version": 3
   },
   "file_extension": ".py",
   "mimetype": "text/x-python",
   "name": "python",
   "nbconvert_exporter": "python",
   "pygments_lexer": "ipython3",
   "version": "3.7.3"
  }
 },
 "nbformat": 4,
 "nbformat_minor": 5
}

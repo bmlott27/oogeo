{
 "cells": [
  {
   "cell_type": "markdown",
   "id": "98fc8137",
   "metadata": {},
   "source": [
    "## Mesh Prototyping\n",
    "\n",
    "This notebook contains experiments and prototypes for converting point clouds to meshes for use in Unity."
   ]
  },
  {
   "cell_type": "code",
   "execution_count": 1,
   "id": "0bc15eac",
   "metadata": {},
   "outputs": [],
   "source": [
    "from envelopegis.models.polygon import Polygon"
   ]
  },
  {
   "cell_type": "markdown",
   "id": "0ddb7d42",
   "metadata": {},
   "source": [
    "### Simple Rectangle"
   ]
  },
  {
   "cell_type": "code",
   "execution_count": 3,
   "id": "ed406994",
   "metadata": {},
   "outputs": [
    {
     "data": {
      "text/plain": [
       "<AxesSubplot:>"
      ]
     },
     "execution_count": 3,
     "metadata": {},
     "output_type": "execute_result"
    },
    {
     "data": {
      "image/png": "[encoded data removed]",
      "text/plain": [
       "<Figure size 432x288 with 1 Axes>"
      ]
     },
     "metadata": {
      "needs_background": "light"
     },
     "output_type": "display_data"
    }
   ],
   "source": [
    "rect = Polygon([\n",
    "    {'x': 1, 'y': 1},\n",
    "    {'x': 10, 'y': 1},\n",
    "    {'x': 10, 'y': 20},\n",
    "    {'x': 1, 'y': 20},\n",
    "    {'x': 1, 'y': 1},\n",
    "], 2263)\n",
    "\n",
    "rect.plot()"
   ]
  }
 ],
 "metadata": {
  "kernelspec": {
   "display_name": "Python 3 (ipykernel)",
   "language": "python",
   "name": "python3"
  },
  "language_info": {
   "codemirror_mode": {
    "name": "ipython",
    "version": 3
   },
   "file_extension": ".py",
   "mimetype": "text/x-python",
   "name": "python",
   "nbconvert_exporter": "python",
   "pygments_lexer": "ipython3",
   "version": "3.7.3"
  }
 },
 "nbformat": 4,
 "nbformat_minor": 5
}

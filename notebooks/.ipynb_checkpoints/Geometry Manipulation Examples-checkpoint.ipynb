{
 "cells": [
  {
   "cell_type": "markdown",
   "id": "e394f69e",
   "metadata": {},
   "source": [
    "# Geometry Manipulation Examples\n",
    "\n",
    "This notebook contains examples for how to create and manipulate geometry objects in the Models API.\n",
    "\n",
    "## Importing the necessary components\n",
    "\n",
    "For these examples we will load all three major geometry objects: Points, Lines, and Polygons"
   ]
  },
  {
   "cell_type": "code",
   "execution_count": 11,
   "id": "578aca3e",
   "metadata": {},
   "outputs": [],
   "source": [
    "from envelopegis.models.point import Point\n",
    "from envelopegis.models.line import Line\n",
    "from envelopegis.models.polygon import Polygon"
   ]
  },
  {
   "cell_type": "markdown",
   "id": "d7599280",
   "metadata": {},
   "source": [
    "## Creating geometries\n",
    "\n",
    "Geometry objects can be constructed using several different types of inputs, the most common being x/y dictionaries and WKT strings. When creating a geometry object you must always specify a spatial reference for the geometry, usually \"2263\" (New York State Plane).\n",
    "\n",
    "### Creating geometries using x/y dictionaries\n",
    "\n",
    "One method of creating a geometry is to define points using python dictionaries, where each dictionary has an 'x' and 'y' entry representing the coordinates of a point. A single x/y dictionary can be used to create a `Point()` object, and a list of x/y dictionaries can be used to define the points in a `Line()` or `Polygon()` object.\n"
   ]
  },
  {
   "cell_type": "code",
   "execution_count": 12,
   "id": "82251a26",
   "metadata": {},
   "outputs": [],
   "source": [
    "# create some geometries using x/y dictionaries\n",
    "\n",
    "# notice that all geometries take their spatial reference (2263) \n",
    "# as the second parameter to the object constructor\n",
    "\n",
    "# first create some points\n",
    "# (their variable names represent the \n",
    "# marker symbols we will use to render them later)\n",
    "up_point = Point({'x': 1, 'y': 1}, 2263)\n",
    "round_point = Point({'x': 2, 'y': 2}, 2263)\n",
    "x_point = Point({'x': 3, 'y': 3}, 2263)\n",
    "down_point = Point({'x': 4, 'y': 4}, 2263)\n",
    "\n",
    "# next create a diagonal line using a list of dictionaries\n",
    "diagonal_line = Line([\n",
    "    {'x': 1, 'y': 1},\n",
    "    {'x': 4, 'y': 4},\n",
    "], 2263)\n",
    "\n",
    "# finally, create a square polygon\n",
    "square_polygon = Polygon([\n",
    "    {'x': 1, 'y': 1},\n",
    "    {'x': 4, 'y': 1},\n",
    "    {'x': 4, 'y': 4},\n",
    "    {'x': 1, 'y': 4},\n",
    "], 2263)\n"
   ]
  },
  {
   "cell_type": "markdown",
   "id": "7ac9c41d",
   "metadata": {},
   "source": [
    "### Creating geometries using WKT strings\n",
    "\n",
    "WKT stands for \"Well-Known Text\" and is a standard for representing geometries as strings. Most applications and libraries that use geometric data can produce data in WKT format, and its common to use WKT to pass geometric data between varying applications. \n",
    "\n",
    "The geometry objects in the Models API can also be exported to WKT strings, and geometry objects can be constructed by passing a WKT string into the geometry's constructor."
   ]
  },
  {
   "cell_type": "code",
   "execution_count": 13,
   "id": "4a6aa587",
   "metadata": {},
   "outputs": [
    {
     "name": "stdout",
     "output_type": "stream",
     "text": [
      "POINT (1 1)\n",
      "MULTILINESTRING ((1 1, 4 4))\n",
      "MULTIPOLYGON (((1 1, 4 1, 4 4, 1 4, 1 1)))\n"
     ]
    }
   ],
   "source": [
    "# print out some WKT strings\n",
    "\n",
    "print(up_point.wkt)\n",
    "print(diagonal_line.wkt)\n",
    "print(square_polygon.wkt)"
   ]
  },
  {
   "cell_type": "code",
   "execution_count": 14,
   "id": "b1ae190c",
   "metadata": {},
   "outputs": [],
   "source": [
    "# create geometries using WKT strings\n",
    "\n",
    "wkt_point = Point('POINT (1 1)', 2263)\n",
    "wkt_line = Line('MULTILINESTRING ((1 1, 4 4))', 2263)\n",
    "wkt_polygon = Polygon('MULTIPOLYGON (((1 1, 4 1, 4 4, 1 4, 1 1)))', 2263)"
   ]
  },
  {
   "cell_type": "markdown",
   "id": "4a406772",
   "metadata": {},
   "source": [
    "## Plotting geometries\n",
    "\n",
    "Once a geometry object is constructed it can be displayed using the `plot()` method. The `plot()` method uses the `matplotlib` library to render geometries and accepts most standard `matplotlib` inputs as parameters. \n",
    "\n",
    "The `plot()` method can be called with no arguments to render the geometry in it's own figure, or a `matplotlib.axes` object can be passed to the `plot()` method to render the geometry into an existing axes. The `plot()` method returns the `matplotlib.axes` object that the geometry has been rendered into so that other geometries can be rendered into the same axes.\n",
    "\n",
    "Parameters for coloring and styling objects are defined in the `matplotlib` library and can be found in their documentation, specifically:\n",
    "\n",
    "* [Point objects (uses `matplotlib.pyplot.scatter()` parameters)](https://matplotlib.org/stable/api/_as_gen/matplotlib.pyplot.scatter.html?highlight=scatter#matplotlib.pyplot.scatter)\n",
    "* [Line objects (uses `matplotlib.pyplot.plot()` parameters)](https://matplotlib.org/stable/api/_as_gen/matplotlib.pyplot.plot.html#matplotlib.pyplot.plot)\n",
    "* [Polygon objects (uses `matplotlib.pyplot.plot()` parameters)](https://matplotlib.org/stable/api/_as_gen/matplotlib.pyplot.fill.html?highlight=fill#matplotlib.pyplot.fill)"
   ]
  },
  {
   "cell_type": "code",
   "execution_count": 16,
   "id": "9ddf22d4",
   "metadata": {},
   "outputs": [
    {
     "data": {
      "text/plain": [
       "<AxesSubplot:>"
      ]
     },
     "execution_count": 16,
     "metadata": {},
     "output_type": "execute_result"
    },
    {
     "data": {
      "image/png": "[encoded data removed]",
      "text/plain": [
       "<Figure size 432x288 with 1 Axes>"
      ]
     },
     "metadata": {
      "needs_background": "light"
     },
     "output_type": "display_data"
    }
   ],
   "source": [
    "# plot the square polygon and grab\n",
    "# the axes that it is drawn in\n",
    "ax = square_polygon.plot(color='0.8')\n",
    "\n",
    "# draw the diagonal line across the square\n",
    "# by providing the axes object\n",
    "diagonal_line.plot(ax=ax, color='Blue') \n",
    "\n",
    "# draw the points using various markers\n",
    "# (notice the `zorder` parameter that insures the\n",
    "# points are rendered on top of the other shapes)\n",
    "up_point.plot(ax=ax, marker='^', zorder=3, color='Red')\n",
    "round_point.plot(ax=ax, marker='o', zorder=3, color='Red')\n",
    "x_point.plot(ax=ax, marker='x', zorder=3, color='Red')\n",
    "down_point.plot(ax=ax, marker='v', zorder=3, color='Red')"
   ]
  }
 ],
 "metadata": {
  "kernelspec": {
   "display_name": "Python 3 (ipykernel)",
   "language": "python",
   "name": "python3"
  },
  "language_info": {
   "codemirror_mode": {
    "name": "ipython",
    "version": 3
   },
   "file_extension": ".py",
   "mimetype": "text/x-python",
   "name": "python",
   "nbconvert_exporter": "python",
   "pygments_lexer": "ipython3",
   "version": "3.7.3"
  }
 },
 "nbformat": 4,
 "nbformat_minor": 5
}
